{
 "cells": [
  {
   "cell_type": "markdown",
   "metadata": {
    "deletable": true,
    "editable": true
   },
   "source": [
    "# Multiclass Logistic Regression in Pure Python"
   ]
  },
  {
   "cell_type": "code",
   "execution_count": 7,
   "metadata": {
    "collapsed": false
   },
   "outputs": [],
   "source": [
    "from __future__ import print_function # for python 2 and 3 compatibility\n",
    "from sklearn.model_selection import train_test_split\n",
    "import pandas as pd\n",
    "import numpy as np"
   ]
  },
  {
   "cell_type": "markdown",
   "metadata": {},
   "source": [
    "## Load the MNIST dataset"
   ]
  },
  {
   "cell_type": "code",
   "execution_count": 2,
   "metadata": {
    "collapsed": false,
    "deletable": true,
    "editable": true
   },
   "outputs": [
    {
     "name": "stdout",
     "output_type": "stream",
     "text": [
      "(1000, 785) (100, 785)\n"
     ]
    }
   ],
   "source": [
    "from __future__ import print_function # for python 2 and 3 compatibility\n",
    "\n",
    "import pandas as pd\n",
    "import numpy as np\n",
    "\n",
    "names = ['label']\n",
    "feature_names = map(str, range(784))\n",
    "names.extend(feature_names)\n",
    "\n",
    "df_mnist_train = pd.read_csv('mnist_train.csv', header=None, nrows=1000, names=names)\n",
    "df_mnist_test = pd.read_csv('mnist_test.csv', header=None, nrows=100, names=names)\n",
    "\n",
    "# normalize pixel data (otherwise pure python implemention won't work)\n",
    "max_pixel =  255\n",
    "df_mnist_train.iloc[:, 1:] /= max_pixel\n",
    "df_mnist_test.iloc[:, 1:] /= max_pixel\n",
    "\n",
    "print(df_mnist_train.shape, df_mnist_test.shape)"
   ]
  },
  {
   "cell_type": "code",
   "execution_count": 11,
   "metadata": {
    "collapsed": false,
    "deletable": true,
    "editable": true
   },
   "outputs": [
    {
     "data": {
      "image/png": "[encoded data removed]",
      "text/plain": [
       "<matplotlib.figure.Figure at 0x251f8e529b0>"
      ]
     },
     "metadata": {},
     "output_type": "display_data"
    },
    {
     "data": {
      "image/png": "[encoded data removed]",
      "text/plain": [
       "<matplotlib.figure.Figure at 0x251fa63af28>"
      ]
     },
     "metadata": {},
     "output_type": "display_data"
    },
    {
     "data": {
      "image/png": "[encoded data removed]",
      "text/plain": [
       "<matplotlib.figure.Figure at 0x251fa6c8908>"
      ]
     },
     "metadata": {},
     "output_type": "display_data"
    }
   ],
   "source": [
    "# plot the first 3 examples of the mnist train dataset\n",
    "\n",
    "import matplotlib.pyplot as plt\n",
    "\n",
    "n_examples = 3\n",
    "for i in range(n_examples):\n",
    "    example = df_mnist_train.iloc[i,:].values\n",
    "    label = int(example[0])\n",
    "\n",
    "    pixels = example[1:]\n",
    "    pixels = np.array(pixels)\n",
    "    pixels = pixels.reshape((28, 28))\n",
    "\n",
    "    plt.title('Label is {}'.format(label))\n",
    "    plt.imshow(pixels, cmap='gray')\n",
    "    plt.show()"
   ]
  },
  {
   "cell_type": "code",
   "execution_count": 12,
   "metadata": {
    "collapsed": false,
    "deletable": true,
    "editable": true
   },
   "outputs": [
    {
     "name": "stdout",
     "output_type": "stream",
     "text": [
      "(1000, 784) (1000,)\n",
      "(100, 784) (100,)\n"
     ]
    }
   ],
   "source": [
    "# select subset of features and labels \n",
    "\n",
    "X_train, y_train = df_mnist_train.iloc[:, 1:], df_mnist_train['label']\n",
    "X_test, y_test = df_mnist_test.iloc[:, 1:], df_mnist_test['label']\n",
    "\n",
    "print(X_train.shape, y_train.shape)\n",
    "print(X_test.shape, y_test.shape)"
   ]
  },
  {
   "cell_type": "markdown",
   "metadata": {},
   "source": [
    "## Build the model"
   ]
  },
  {
   "cell_type": "code",
   "execution_count": 13,
   "metadata": {
    "collapsed": true
   },
   "outputs": [],
   "source": [
    "class MultiClassLogisticRegressorPurePython(object):\n",
    "    \n",
    "    def __init__(self, lr, n_iter):\n",
    "        self.lr = lr\n",
    "        self.n_iter = n_iter\n",
    "\n",
    "    def fit(self, X, y):\n",
    "        self.n_classes_ = len(np.unique(y))\n",
    "        self.m_ = X.shape[0]\n",
    "        self.w_ = np.zeros((X.shape[1], self.n_classes_))\n",
    "        self.cost_ = []\n",
    "        \n",
    "        \n",
    "        for i in range(self.n_iter):\n",
    "            z = self.net_input(X)\n",
    "            assert not np.isnan(np.sum(z))\n",
    "            p_y = self.softmax_fn(z)\n",
    "            y_onehot = self.onehot_fn(y)\n",
    "            error = (y_onehot - p_y)\n",
    "            grad =  (-1 / self.m_) * X.T.dot(error) \n",
    "            self.w_ = self.w_ - (self.lr * grad)\n",
    "                \n",
    "        \n",
    "            cost = (-1 / self.m_) * np.sum(y_onehot * np.log(p_y))\n",
    "            self.cost_.append(cost)\n",
    "            \n",
    "        return self\n",
    "    \n",
    "    def onehot_fn(self, y):\n",
    "        onehot = np.eye(self.n_classes_)[y]\n",
    "        return onehot\n",
    "\n",
    "    def net_input(self, X):\n",
    "        return np.dot(X, self.w_)\n",
    "\n",
    "    def predict(self, X):\n",
    "        z = self.net_input(X)\n",
    "        return np.argmax(self.softmax_fn(z), axis=1)\n",
    "    \n",
    "    def softmax_fn(self, z):\n",
    "        z -= np.max(z)\n",
    "        softmax = (np.exp(z).T / np.sum(np.exp(z),axis=1)).T\n",
    "        return softmax"
   ]
  },
  {
   "cell_type": "markdown",
   "metadata": {},
   "source": [
    "## Fit and evaluate "
   ]
  },
  {
   "cell_type": "code",
   "execution_count": 20,
   "metadata": {
    "collapsed": false
   },
   "outputs": [
    {
     "data": {
      "image/png": "[encoded data removed]",
      "text/plain": [
       "<matplotlib.figure.Figure at 0x251fa657908>"
      ]
     },
     "metadata": {},
     "output_type": "display_data"
    }
   ],
   "source": [
    "# instantiate and fit model\n",
    "model_3 = MultiClassLogisticRegressorPurePython(n_iter=1000, lr=0.1)\n",
    "model_3.fit(X_train, y_train)\n",
    "plt.plot(model_3.cost_)\n",
    "plt.show()"
   ]
  },
  {
   "cell_type": "code",
   "execution_count": 21,
   "metadata": {
    "collapsed": false
   },
   "outputs": [
    {
     "name": "stdout",
     "output_type": "stream",
     "text": [
      "Train accuracy: 1.0\n",
      "Test accuracy: 0.89\n"
     ]
    }
   ],
   "source": [
    "# evaluate model\n",
    "train_acc = np.sum(model_3.predict(X_train) == y_train) / float(len(X_train))\n",
    "test_acc = np.sum(model_3.predict(X_test) == y_test) / float(len(X_test))\n",
    "print('Train accuracy: {}'.format(train_acc))\n",
    "print('Test accuracy: {}'.format(test_acc))"
   ]
  },
  {
   "cell_type": "markdown",
   "metadata": {
    "deletable": true,
    "editable": true
   },
   "source": [
    "## Optional: Tensorflow Implementation"
   ]
  },
  {
   "cell_type": "code",
   "execution_count": 8,
   "metadata": {
    "collapsed": false,
    "deletable": true,
    "editable": true
   },
   "outputs": [
    {
     "name": "stdout",
     "output_type": "stream",
     "text": [
      "Train accuracy: 0.885999977589\n",
      "Test accuracy: 0.829999983311\n"
     ]
    }
   ],
   "source": [
    "import tensorflow as tf\n",
    "tf.logging.set_verbosity(tf.logging.ERROR)\n",
    "\n",
    "# define model input\n",
    "def input_fn(x, y):\n",
    "    feature_cols = {name: tf.constant(x[name].values) for name in x.columns}\n",
    "    label = tf.constant(y.values)\n",
    "    return feature_cols, label\n",
    "\n",
    "\n",
    "# define features\n",
    "feat_cols = [tf.contrib.layers.real_valued_column(name) for name in X_train.columns]\n",
    "\n",
    "# instantiate and fit model\n",
    "model_2 = tf.contrib.learn.LinearClassifier(feature_columns=feat_cols, n_classes=10) # need to specify n_classes\n",
    "model_2.fit(input_fn=lambda: input_fn(X_train, y_train), steps=100)\n",
    "\n",
    "# evaluate model\n",
    "train_acc = model_2.evaluate(input_fn=lambda: input_fn(X_train, y_train), steps=1)['accuracy']\n",
    "test_acc = model_2.evaluate(input_fn=lambda: input_fn(X_test, y_test), steps=1)['accuracy']\n",
    "print('Train accuracy: {}'.format(train_acc))\n",
    "print('Test accuracy: {}'.format(test_acc))"
   ]
  }
 ],
 "metadata": {
  "kernelspec": {
   "display_name": "Python 3",
   "language": "python",
   "name": "python3"
  },
  "language_info": {
   "codemirror_mode": {
    "name": "ipython",
    "version": 3
   },
   "file_extension": ".py",
   "mimetype": "text/x-python",
   "name": "python",
   "nbconvert_exporter": "python",
   "pygments_lexer": "ipython3",
   "version": "3.6.0"
  }
 },
 "nbformat": 4,
 "nbformat_minor": 0
}
